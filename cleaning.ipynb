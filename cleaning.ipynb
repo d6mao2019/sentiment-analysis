{
 "cells": [
  {
   "source": [
    "# Cleaning."
   ],
   "cell_type": "markdown",
   "metadata": {}
  },
  {
   "cell_type": "code",
   "execution_count": 1,
   "metadata": {},
   "outputs": [],
   "source": [
    "import pandas as pd\n",
    "import regex as re\n",
    "import string\n",
    "\n",
    "from nltk.corpus import stopwords\n",
    "stop_words = stopwords.words('english')\n",
    "add_stop_words = ['u', 'ill', 'hey', 'hi', 'youre', 'im', 'ive', 'till']\n",
    "stop_words.extend(add_stop_words)\n",
    "\n",
    "from nltk.stem import WordNetLemmatizer\n",
    "lemmatizer = WordNetLemmatizer()"
   ]
  },
  {
   "cell_type": "code",
   "execution_count": 2,
   "metadata": {},
   "outputs": [
    {
     "output_type": "execute_result",
     "data": {
      "text/plain": [
       "                                                     Text  Sentiment\n",
       "0       I *heart* filling up @dennisschaub desk   1 it...          1\n",
       "1       #SocioMat - people create prettier, younger an...          1\n",
       "2                     no way i dont want the tour to end           0\n",
       "3       @HemalRadia Hi Amazing Brother! Sending Limitl...          1\n",
       "4                        @flockmaster they are chocolate           1\n",
       "...                                                   ...        ...\n",
       "999995  @midderhonz i'm good.. off to buy an electric ...          1\n",
       "999996  @StaceyPaha i know..for youngerr boys..what am...          1\n",
       "999997  I can't belive it I just got asked for an auto...          1\n",
       "999998  i am putting my bb in the fridge so it cant di...          0\n",
       "999999                           lexo wont come visit me           0\n",
       "\n",
       "[1000000 rows x 2 columns]"
      ],
      "text/html": "<div>\n<style scoped>\n    .dataframe tbody tr th:only-of-type {\n        vertical-align: middle;\n    }\n\n    .dataframe tbody tr th {\n        vertical-align: top;\n    }\n\n    .dataframe thead th {\n        text-align: right;\n    }\n</style>\n<table border=\"1\" class=\"dataframe\">\n  <thead>\n    <tr style=\"text-align: right;\">\n      <th></th>\n      <th>Text</th>\n      <th>Sentiment</th>\n    </tr>\n  </thead>\n  <tbody>\n    <tr>\n      <th>0</th>\n      <td>I *heart* filling up @dennisschaub desk   1 it...</td>\n      <td>1</td>\n    </tr>\n    <tr>\n      <th>1</th>\n      <td>#SocioMat - people create prettier, younger an...</td>\n      <td>1</td>\n    </tr>\n    <tr>\n      <th>2</th>\n      <td>no way i dont want the tour to end</td>\n      <td>0</td>\n    </tr>\n    <tr>\n      <th>3</th>\n      <td>@HemalRadia Hi Amazing Brother! Sending Limitl...</td>\n      <td>1</td>\n    </tr>\n    <tr>\n      <th>4</th>\n      <td>@flockmaster they are chocolate</td>\n      <td>1</td>\n    </tr>\n    <tr>\n      <th>...</th>\n      <td>...</td>\n      <td>...</td>\n    </tr>\n    <tr>\n      <th>999995</th>\n      <td>@midderhonz i'm good.. off to buy an electric ...</td>\n      <td>1</td>\n    </tr>\n    <tr>\n      <th>999996</th>\n      <td>@StaceyPaha i know..for youngerr boys..what am...</td>\n      <td>1</td>\n    </tr>\n    <tr>\n      <th>999997</th>\n      <td>I can't belive it I just got asked for an auto...</td>\n      <td>1</td>\n    </tr>\n    <tr>\n      <th>999998</th>\n      <td>i am putting my bb in the fridge so it cant di...</td>\n      <td>0</td>\n    </tr>\n    <tr>\n      <th>999999</th>\n      <td>lexo wont come visit me</td>\n      <td>0</td>\n    </tr>\n  </tbody>\n</table>\n<p>1000000 rows × 2 columns</p>\n</div>"
     },
     "metadata": {},
     "execution_count": 2
    }
   ],
   "source": [
    "df = pd.read_csv('data/training_data.csv')\n",
    "data = df[['Text','Sentiment']]\n",
    "data"
   ]
  },
  {
   "cell_type": "code",
   "execution_count": 3,
   "metadata": {},
   "outputs": [],
   "source": [
    "# data cleaning function.\n",
    "# notice that cleaning is \"idempotent\".\n",
    "def clean(text):\n",
    "    text = re.sub('([@#]\\S*)|((http)|(www)\\S+)|(^\\s*)|($\\s*)|\\(|\\)','',text)\n",
    "    text = ' '.join(lemmatizer.lemmatize(word) for word in text.split() if word not in stop_words)\n",
    "    text = text.lower()\n",
    "    return text"
   ]
  },
  {
   "cell_type": "code",
   "execution_count": 4,
   "metadata": {},
   "outputs": [
    {
     "output_type": "stream",
     "name": "stdout",
     "text": [
      "@HemalRadia Hi Amazing Brother! Sending Limitless (((Love))) Your Way! Twitterland is Radiant when You walk along its streets!  (((HUGS)))\n",
      "hi amazing brother! sending limitless love your way! twitterland radiant you walk along streets! hugs\n"
     ]
    }
   ],
   "source": [
    "# testing cell for the clean function.\n",
    "test = \"@HemalRadia Hi Amazing Brother! Sending Limitless (((Love))) Your Way! Twitterland is Radiant when You walk along its streets!  (((HUGS)))\"\n",
    "print(test)\n",
    "print(clean(test))"
   ]
  },
  {
   "cell_type": "code",
   "execution_count": 5,
   "metadata": {},
   "outputs": [
    {
     "output_type": "execute_result",
     "data": {
      "text/plain": [
       "                                                     Text  Sentiment\n",
       "0        i *heart* filling desk 1 mean sale &amp; 2 desk!          1\n",
       "1       - people create prettier, younger better looki...          1\n",
       "2                                  way dont want tour end          0\n",
       "3       hi amazing brother! sending limitless love you...          1\n",
       "4                                               chocolate          1\n",
       "...                                                   ...        ...\n",
       "999995                      i'm good.. buy electric horse          1\n",
       "999996  know..for youngerr boys..what lifee! everythin...          1\n",
       "999997   i can't belive i got asked autograph... not good          1\n",
       "999998  putting bb fridge cant distract bye twitter world          0\n",
       "999999                               lexo wont come visit          0\n",
       "\n",
       "[1000000 rows x 2 columns]"
      ],
      "text/html": "<div>\n<style scoped>\n    .dataframe tbody tr th:only-of-type {\n        vertical-align: middle;\n    }\n\n    .dataframe tbody tr th {\n        vertical-align: top;\n    }\n\n    .dataframe thead th {\n        text-align: right;\n    }\n</style>\n<table border=\"1\" class=\"dataframe\">\n  <thead>\n    <tr style=\"text-align: right;\">\n      <th></th>\n      <th>Text</th>\n      <th>Sentiment</th>\n    </tr>\n  </thead>\n  <tbody>\n    <tr>\n      <th>0</th>\n      <td>i *heart* filling desk 1 mean sale &amp;amp; 2 desk!</td>\n      <td>1</td>\n    </tr>\n    <tr>\n      <th>1</th>\n      <td>- people create prettier, younger better looki...</td>\n      <td>1</td>\n    </tr>\n    <tr>\n      <th>2</th>\n      <td>way dont want tour end</td>\n      <td>0</td>\n    </tr>\n    <tr>\n      <th>3</th>\n      <td>hi amazing brother! sending limitless love you...</td>\n      <td>1</td>\n    </tr>\n    <tr>\n      <th>4</th>\n      <td>chocolate</td>\n      <td>1</td>\n    </tr>\n    <tr>\n      <th>...</th>\n      <td>...</td>\n      <td>...</td>\n    </tr>\n    <tr>\n      <th>999995</th>\n      <td>i'm good.. buy electric horse</td>\n      <td>1</td>\n    </tr>\n    <tr>\n      <th>999996</th>\n      <td>know..for youngerr boys..what lifee! everythin...</td>\n      <td>1</td>\n    </tr>\n    <tr>\n      <th>999997</th>\n      <td>i can't belive i got asked autograph... not good</td>\n      <td>1</td>\n    </tr>\n    <tr>\n      <th>999998</th>\n      <td>putting bb fridge cant distract bye twitter world</td>\n      <td>0</td>\n    </tr>\n    <tr>\n      <th>999999</th>\n      <td>lexo wont come visit</td>\n      <td>0</td>\n    </tr>\n  </tbody>\n</table>\n<p>1000000 rows × 2 columns</p>\n</div>"
     },
     "metadata": {},
     "execution_count": 5
    }
   ],
   "source": [
    "data['Text'] = data['Text'].apply(lambda x : clean(x))\n",
    "data"
   ]
  },
  {
   "cell_type": "code",
   "execution_count": 6,
   "metadata": {},
   "outputs": [],
   "source": [
    "data.to_csv('data/cleaned_data.csv')"
   ]
  }
 ],
 "metadata": {
  "kernelspec": {
   "name": "python3",
   "display_name": "Python 3.8.7 64-bit",
   "metadata": {
    "interpreter": {
     "hash": "b7659573bf1b6290a1623a93682b8c124891d9e8a5abd4ba926bfdf7da92de9f"
    }
   }
  },
  "language_info": {
   "codemirror_mode": {
    "name": "ipython",
    "version": 3
   },
   "file_extension": ".py",
   "mimetype": "text/x-python",
   "name": "python",
   "nbconvert_exporter": "python",
   "pygments_lexer": "ipython3",
   "version": "3.8.7-final"
  }
 },
 "nbformat": 4,
 "nbformat_minor": 4
}